{
  "cells": [
    {
      "cell_type": "markdown",
      "source": [
        "# **CMT309 - Computational Data Science - Data Science Portfolio**"
      ],
      "metadata": {
        "id": "t_hYgOgUzIwe"
      }
    },
    {
      "cell_type": "markdown",
      "metadata": {
        "id": "koNbuwmaL-TV"
      },
      "source": [
        "# Part 2 - Statistical Analysis (55 marks)\n",
        "\n",
        "This question has been created to test your statistical analysis and programming knowledge in Python. \n",
        "\n",
        "You are given a `csv` file, which include various data entries for UFC fights played between 1994 up to 2021. Each row presents several statistics for a fighter in a specific fight (`Match_ID`) where the result of the fight is stored in (`Winner`). Descriptions for some other important column names is automatically downloaded in a txt file. \n",
        "\n",
        "In this exercise, you are asked to perform a number of operations to:\n",
        " - perform statistical analysis of the data, and\n",
        " - gain insights from the data."
      ]
    },
    {
      "cell_type": "code",
      "execution_count": null,
      "metadata": {
        "id": "dMkSf1mxmwOX",
        "colab": {
          "base_uri": "https://localhost:8080/"
        },
        "outputId": "ff61dfa2-077f-4634-d6fb-584a938a27ec"
      },
      "outputs": [
        {
          "output_type": "stream",
          "name": "stdout",
          "text": [
            "Looking in indexes: https://pypi.org/simple, https://us-python.pkg.dev/colab-wheels/public/simple/\n",
            "Requirement already satisfied: kaleido in /usr/local/lib/python3.10/dist-packages (0.2.1)\n"
          ]
        }
      ],
      "source": [
        "# suggested imports\n",
        "import pandas as pd\n",
        "import numpy as np\n",
        "import statsmodels.api as sm\n",
        "import scipy\n",
        "from urllib import request\n",
        "import scipy.stats as stats\n",
        "from statsmodels import graphics\n",
        "import arviz as az\n",
        "#import pymc3 as pm\n",
        "#from pymc3 import glm\n",
        "%matplotlib inline\n",
        "import matplotlib.pyplot as plt\n",
        "from sklearn.metrics import accuracy_score, RocCurveDisplay, auc, roc_curve\n",
        "from sklearn.metrics import classification_report, confusion_matrix\n",
        "from sklearn.model_selection import train_test_split\n",
        "import seaborn as sns\n",
        "sns.set_style(style=\"darkgrid\", rc={\"axes.facecolor\": \".9\", \"grid.color\": \".8\"})\n",
        "sns.set_palette(palette=\"deep\")\n",
        "sns_c = sns.color_palette(palette=\"deep\")\n",
        "!pip install kaleido\n",
        "import plotly.express as px\n",
        "import kaleido"
      ]
    },
    {
      "cell_type": "code",
      "source": [
        "!pip install mkl"
      ],
      "metadata": {
        "colab": {
          "base_uri": "https://localhost:8080/"
        },
        "id": "gkNq6kvyFYlU",
        "outputId": "7f1c6f4c-b8a9-4bd4-88e2-58d82208833f"
      },
      "execution_count": null,
      "outputs": [
        {
          "output_type": "stream",
          "name": "stdout",
          "text": [
            "Looking in indexes: https://pypi.org/simple, https://us-python.pkg.dev/colab-wheels/public/simple/\n",
            "Requirement already satisfied: mkl in /usr/local/lib/python3.10/dist-packages (2019.0)\n",
            "Requirement already satisfied: intel-openmp in /usr/local/lib/python3.10/dist-packages (from mkl) (2023.1.0)\n"
          ]
        }
      ]
    },
    {
      "cell_type": "code",
      "source": [
        "!pip install pymc3"
      ],
      "metadata": {
        "colab": {
          "base_uri": "https://localhost:8080/"
        },
        "id": "DTQyBD24FFb0",
        "outputId": "16c70153-88ed-4c31-ed11-4a609db20708"
      },
      "execution_count": null,
      "outputs": [
        {
          "output_type": "stream",
          "name": "stdout",
          "text": [
            "Looking in indexes: https://pypi.org/simple, https://us-python.pkg.dev/colab-wheels/public/simple/\n",
            "Requirement already satisfied: pymc3 in /usr/local/lib/python3.10/dist-packages (3.11.5)\n",
            "Requirement already satisfied: arviz>=0.11.0 in /usr/local/lib/python3.10/dist-packages (from pymc3) (0.12.1)\n",
            "Requirement already satisfied: cachetools>=4.2.1 in /usr/local/lib/python3.10/dist-packages (from pymc3) (5.3.0)\n",
            "Requirement already satisfied: deprecat in /usr/local/lib/python3.10/dist-packages (from pymc3) (2.1.1)\n",
            "Requirement already satisfied: dill in /usr/local/lib/python3.10/dist-packages (from pymc3) (0.3.6)\n",
            "Requirement already satisfied: fastprogress>=0.2.0 in /usr/local/lib/python3.10/dist-packages (from pymc3) (1.0.3)\n",
            "Requirement already satisfied: numpy<1.22.2,>=1.15.0 in /usr/local/lib/python3.10/dist-packages (from pymc3) (1.22.1)\n",
            "Requirement already satisfied: pandas>=0.24.0 in /usr/local/lib/python3.10/dist-packages (from pymc3) (1.5.3)\n",
            "Requirement already satisfied: patsy>=0.5.1 in /usr/local/lib/python3.10/dist-packages (from pymc3) (0.5.3)\n",
            "Requirement already satisfied: scipy<1.8.0,>=1.7.3 in /usr/local/lib/python3.10/dist-packages (from pymc3) (1.7.3)\n",
            "Requirement already satisfied: semver>=2.13.0 in /usr/local/lib/python3.10/dist-packages (from pymc3) (3.0.0)\n",
            "Requirement already satisfied: theano-pymc==1.1.2 in /usr/local/lib/python3.10/dist-packages (from pymc3) (1.1.2)\n",
            "Requirement already satisfied: typing-extensions>=3.7.4 in /usr/local/lib/python3.10/dist-packages (from pymc3) (4.5.0)\n",
            "Requirement already satisfied: filelock in /usr/local/lib/python3.10/dist-packages (from theano-pymc==1.1.2->pymc3) (3.12.0)\n",
            "Requirement already satisfied: setuptools>=38.4 in /usr/local/lib/python3.10/dist-packages (from arviz>=0.11.0->pymc3) (67.7.2)\n",
            "Requirement already satisfied: matplotlib>=3.0 in /usr/local/lib/python3.10/dist-packages (from arviz>=0.11.0->pymc3) (3.7.1)\n",
            "Requirement already satisfied: packaging in /usr/local/lib/python3.10/dist-packages (from arviz>=0.11.0->pymc3) (23.1)\n",
            "Requirement already satisfied: xarray>=0.16.1 in /usr/local/lib/python3.10/dist-packages (from arviz>=0.11.0->pymc3) (2022.12.0)\n",
            "Requirement already satisfied: netcdf4 in /usr/local/lib/python3.10/dist-packages (from arviz>=0.11.0->pymc3) (1.6.3)\n",
            "Requirement already satisfied: xarray-einstats>=0.2 in /usr/local/lib/python3.10/dist-packages (from arviz>=0.11.0->pymc3) (0.5.1)\n",
            "Requirement already satisfied: python-dateutil>=2.8.1 in /usr/local/lib/python3.10/dist-packages (from pandas>=0.24.0->pymc3) (2.8.2)\n",
            "Requirement already satisfied: pytz>=2020.1 in /usr/local/lib/python3.10/dist-packages (from pandas>=0.24.0->pymc3) (2022.7.1)\n",
            "Requirement already satisfied: six in /usr/local/lib/python3.10/dist-packages (from patsy>=0.5.1->pymc3) (1.16.0)\n",
            "Requirement already satisfied: wrapt<2,>=1.10 in /usr/local/lib/python3.10/dist-packages (from deprecat->pymc3) (1.14.1)\n",
            "Requirement already satisfied: contourpy>=1.0.1 in /usr/local/lib/python3.10/dist-packages (from matplotlib>=3.0->arviz>=0.11.0->pymc3) (1.0.7)\n",
            "Requirement already satisfied: cycler>=0.10 in /usr/local/lib/python3.10/dist-packages (from matplotlib>=3.0->arviz>=0.11.0->pymc3) (0.11.0)\n",
            "Requirement already satisfied: fonttools>=4.22.0 in /usr/local/lib/python3.10/dist-packages (from matplotlib>=3.0->arviz>=0.11.0->pymc3) (4.39.3)\n",
            "Requirement already satisfied: kiwisolver>=1.0.1 in /usr/local/lib/python3.10/dist-packages (from matplotlib>=3.0->arviz>=0.11.0->pymc3) (1.4.4)\n",
            "Requirement already satisfied: pillow>=6.2.0 in /usr/local/lib/python3.10/dist-packages (from matplotlib>=3.0->arviz>=0.11.0->pymc3) (8.4.0)\n",
            "Requirement already satisfied: pyparsing>=2.3.1 in /usr/local/lib/python3.10/dist-packages (from matplotlib>=3.0->arviz>=0.11.0->pymc3) (3.0.9)\n",
            "Requirement already satisfied: cftime in /usr/local/lib/python3.10/dist-packages (from netcdf4->arviz>=0.11.0->pymc3) (1.6.2)\n"
          ]
        }
      ]
    },
    {
      "cell_type": "markdown",
      "source": [
        "## P2.0) Suggested/Required Imports"
      ],
      "metadata": {
        "id": "NvXEbmnbPRzL"
      }
    },
    {
      "cell_type": "code",
      "execution_count": null,
      "metadata": {
        "colab": {
          "base_uri": "https://localhost:8080/"
        },
        "outputId": "d06acd5a-b1bf-4572-ba08-804514cc8de0",
        "id": "wvibQGS4MCFL"
      },
      "outputs": [
        {
          "output_type": "execute_result",
          "data": {
            "text/plain": [
              "             Fighter  Referee        Date  Location  Winner  Title_bout  \\\n",
              "0      Gustavo Lopez        1  20/03/2021         1       0           1   \n",
              "1      Roman Dolidze        2  20/03/2021         1       0           1   \n",
              "2   Marcus LeVesseur        3  05/10/2012         2       1           1   \n",
              "3        Hacran Dias        4  18/05/2013         3       0           1   \n",
              "4  Daron Cruickshank        5  25/07/2015         4       0           1   \n",
              "5       Paulo Thiago        2  12/06/2010         5       0           1   \n",
              "6  Cristiane Justino        6  27/07/2019         6       1           1   \n",
              "7         Ryan Bader        7  19/11/2011         7       1           1   \n",
              "\n",
              "   Weight_class    Avg_KD  Avg_opp_KD  Avg_SIG_STR_pct  ...  \\\n",
              "0             1  0.000000         0.0         0.420000  ...   \n",
              "1             2  0.500000         0.0         0.660000  ...   \n",
              "2             3  0.000000         0.0         0.500000  ...   \n",
              "3             4  0.000000         0.0         0.430000  ...   \n",
              "4             3  0.125977         0.0         0.382295  ...   \n",
              "5             5  1.125000         0.0         0.382500  ...   \n",
              "6             6  0.093750         1.0         0.427812  ...   \n",
              "7             7  0.140625         0.5         0.239063  ...   \n",
              "\n",
              "   Win_by_Decision_Split  Win_by_Decision_Unanimous  Win_by_KO_TKO  \\\n",
              "0                      0                          0              0   \n",
              "1                      1                          0              1   \n",
              "2                      0                          0              0   \n",
              "3                      0                          1              0   \n",
              "4                      1                          2              3   \n",
              "5                      0                          1              1   \n",
              "6                      0                          1              4   \n",
              "7                      0                          3              2   \n",
              "\n",
              "   Win_by_Submission  Win_by_TKO_Doctor_Stoppage  Height_cms  Reach_cms  \\\n",
              "0                  1                           0      165.10     170.18   \n",
              "1                  0                           0      187.96     193.04   \n",
              "2                  0                           0      175.26     177.80   \n",
              "3                  0                           0      172.72     175.26   \n",
              "4                  0                           0      172.72     182.88   \n",
              "5                  1                           0      180.34     187.96   \n",
              "6                  0                           0      172.72     172.72   \n",
              "7                  0                           0      187.96     187.96   \n",
              "\n",
              "   Weight_lbs  Age  Match_ID  \n",
              "0         135   31      4347  \n",
              "1         205   32      2867  \n",
              "2         155   30      3106  \n",
              "3         155   28      3765  \n",
              "4         155   30       672  \n",
              "5         170   29      3488  \n",
              "6         145   34      2030  \n",
              "7         205   28      4281  \n",
              "\n",
              "[8 rows x 57 columns]"
            ],
            "text/html": [
              "\n",
              "  <div id=\"df-83d18489-775b-45f2-a07f-6bcb1825c338\">\n",
              "    <div class=\"colab-df-container\">\n",
              "      <div>\n",
              "<style scoped>\n",
              "    .dataframe tbody tr th:only-of-type {\n",
              "        vertical-align: middle;\n",
              "    }\n",
              "\n",
              "    .dataframe tbody tr th {\n",
              "        vertical-align: top;\n",
              "    }\n",
              "\n",
              "    .dataframe thead th {\n",
              "        text-align: right;\n",
              "    }\n",
              "</style>\n",
              "<table border=\"1\" class=\"dataframe\">\n",
              "  <thead>\n",
              "    <tr style=\"text-align: right;\">\n",
              "      <th></th>\n",
              "      <th>Fighter</th>\n",
              "      <th>Referee</th>\n",
              "      <th>Date</th>\n",
              "      <th>Location</th>\n",
              "      <th>Winner</th>\n",
              "      <th>Title_bout</th>\n",
              "      <th>Weight_class</th>\n",
              "      <th>Avg_KD</th>\n",
              "      <th>Avg_opp_KD</th>\n",
              "      <th>Avg_SIG_STR_pct</th>\n",
              "      <th>...</th>\n",
              "      <th>Win_by_Decision_Split</th>\n",
              "      <th>Win_by_Decision_Unanimous</th>\n",
              "      <th>Win_by_KO_TKO</th>\n",
              "      <th>Win_by_Submission</th>\n",
              "      <th>Win_by_TKO_Doctor_Stoppage</th>\n",
              "      <th>Height_cms</th>\n",
              "      <th>Reach_cms</th>\n",
              "      <th>Weight_lbs</th>\n",
              "      <th>Age</th>\n",
              "      <th>Match_ID</th>\n",
              "    </tr>\n",
              "  </thead>\n",
              "  <tbody>\n",
              "    <tr>\n",
              "      <th>0</th>\n",
              "      <td>Gustavo Lopez</td>\n",
              "      <td>1</td>\n",
              "      <td>20/03/2021</td>\n",
              "      <td>1</td>\n",
              "      <td>0</td>\n",
              "      <td>1</td>\n",
              "      <td>1</td>\n",
              "      <td>0.000000</td>\n",
              "      <td>0.0</td>\n",
              "      <td>0.420000</td>\n",
              "      <td>...</td>\n",
              "      <td>0</td>\n",
              "      <td>0</td>\n",
              "      <td>0</td>\n",
              "      <td>1</td>\n",
              "      <td>0</td>\n",
              "      <td>165.10</td>\n",
              "      <td>170.18</td>\n",
              "      <td>135</td>\n",
              "      <td>31</td>\n",
              "      <td>4347</td>\n",
              "    </tr>\n",
              "    <tr>\n",
              "      <th>1</th>\n",
              "      <td>Roman Dolidze</td>\n",
              "      <td>2</td>\n",
              "      <td>20/03/2021</td>\n",
              "      <td>1</td>\n",
              "      <td>0</td>\n",
              "      <td>1</td>\n",
              "      <td>2</td>\n",
              "      <td>0.500000</td>\n",
              "      <td>0.0</td>\n",
              "      <td>0.660000</td>\n",
              "      <td>...</td>\n",
              "      <td>1</td>\n",
              "      <td>0</td>\n",
              "      <td>1</td>\n",
              "      <td>0</td>\n",
              "      <td>0</td>\n",
              "      <td>187.96</td>\n",
              "      <td>193.04</td>\n",
              "      <td>205</td>\n",
              "      <td>32</td>\n",
              "      <td>2867</td>\n",
              "    </tr>\n",
              "    <tr>\n",
              "      <th>2</th>\n",
              "      <td>Marcus LeVesseur</td>\n",
              "      <td>3</td>\n",
              "      <td>05/10/2012</td>\n",
              "      <td>2</td>\n",
              "      <td>1</td>\n",
              "      <td>1</td>\n",
              "      <td>3</td>\n",
              "      <td>0.000000</td>\n",
              "      <td>0.0</td>\n",
              "      <td>0.500000</td>\n",
              "      <td>...</td>\n",
              "      <td>0</td>\n",
              "      <td>0</td>\n",
              "      <td>0</td>\n",
              "      <td>0</td>\n",
              "      <td>0</td>\n",
              "      <td>175.26</td>\n",
              "      <td>177.80</td>\n",
              "      <td>155</td>\n",
              "      <td>30</td>\n",
              "      <td>3106</td>\n",
              "    </tr>\n",
              "    <tr>\n",
              "      <th>3</th>\n",
              "      <td>Hacran Dias</td>\n",
              "      <td>4</td>\n",
              "      <td>18/05/2013</td>\n",
              "      <td>3</td>\n",
              "      <td>0</td>\n",
              "      <td>1</td>\n",
              "      <td>4</td>\n",
              "      <td>0.000000</td>\n",
              "      <td>0.0</td>\n",
              "      <td>0.430000</td>\n",
              "      <td>...</td>\n",
              "      <td>0</td>\n",
              "      <td>1</td>\n",
              "      <td>0</td>\n",
              "      <td>0</td>\n",
              "      <td>0</td>\n",
              "      <td>172.72</td>\n",
              "      <td>175.26</td>\n",
              "      <td>155</td>\n",
              "      <td>28</td>\n",
              "      <td>3765</td>\n",
              "    </tr>\n",
              "    <tr>\n",
              "      <th>4</th>\n",
              "      <td>Daron Cruickshank</td>\n",
              "      <td>5</td>\n",
              "      <td>25/07/2015</td>\n",
              "      <td>4</td>\n",
              "      <td>0</td>\n",
              "      <td>1</td>\n",
              "      <td>3</td>\n",
              "      <td>0.125977</td>\n",
              "      <td>0.0</td>\n",
              "      <td>0.382295</td>\n",
              "      <td>...</td>\n",
              "      <td>1</td>\n",
              "      <td>2</td>\n",
              "      <td>3</td>\n",
              "      <td>0</td>\n",
              "      <td>0</td>\n",
              "      <td>172.72</td>\n",
              "      <td>182.88</td>\n",
              "      <td>155</td>\n",
              "      <td>30</td>\n",
              "      <td>672</td>\n",
              "    </tr>\n",
              "    <tr>\n",
              "      <th>5</th>\n",
              "      <td>Paulo Thiago</td>\n",
              "      <td>2</td>\n",
              "      <td>12/06/2010</td>\n",
              "      <td>5</td>\n",
              "      <td>0</td>\n",
              "      <td>1</td>\n",
              "      <td>5</td>\n",
              "      <td>1.125000</td>\n",
              "      <td>0.0</td>\n",
              "      <td>0.382500</td>\n",
              "      <td>...</td>\n",
              "      <td>0</td>\n",
              "      <td>1</td>\n",
              "      <td>1</td>\n",
              "      <td>1</td>\n",
              "      <td>0</td>\n",
              "      <td>180.34</td>\n",
              "      <td>187.96</td>\n",
              "      <td>170</td>\n",
              "      <td>29</td>\n",
              "      <td>3488</td>\n",
              "    </tr>\n",
              "    <tr>\n",
              "      <th>6</th>\n",
              "      <td>Cristiane Justino</td>\n",
              "      <td>6</td>\n",
              "      <td>27/07/2019</td>\n",
              "      <td>6</td>\n",
              "      <td>1</td>\n",
              "      <td>1</td>\n",
              "      <td>6</td>\n",
              "      <td>0.093750</td>\n",
              "      <td>1.0</td>\n",
              "      <td>0.427812</td>\n",
              "      <td>...</td>\n",
              "      <td>0</td>\n",
              "      <td>1</td>\n",
              "      <td>4</td>\n",
              "      <td>0</td>\n",
              "      <td>0</td>\n",
              "      <td>172.72</td>\n",
              "      <td>172.72</td>\n",
              "      <td>145</td>\n",
              "      <td>34</td>\n",
              "      <td>2030</td>\n",
              "    </tr>\n",
              "    <tr>\n",
              "      <th>7</th>\n",
              "      <td>Ryan Bader</td>\n",
              "      <td>7</td>\n",
              "      <td>19/11/2011</td>\n",
              "      <td>7</td>\n",
              "      <td>1</td>\n",
              "      <td>1</td>\n",
              "      <td>7</td>\n",
              "      <td>0.140625</td>\n",
              "      <td>0.5</td>\n",
              "      <td>0.239063</td>\n",
              "      <td>...</td>\n",
              "      <td>0</td>\n",
              "      <td>3</td>\n",
              "      <td>2</td>\n",
              "      <td>0</td>\n",
              "      <td>0</td>\n",
              "      <td>187.96</td>\n",
              "      <td>187.96</td>\n",
              "      <td>205</td>\n",
              "      <td>28</td>\n",
              "      <td>4281</td>\n",
              "    </tr>\n",
              "  </tbody>\n",
              "</table>\n",
              "<p>8 rows × 57 columns</p>\n",
              "</div>\n",
              "      <button class=\"colab-df-convert\" onclick=\"convertToInteractive('df-83d18489-775b-45f2-a07f-6bcb1825c338')\"\n",
              "              title=\"Convert this dataframe to an interactive table.\"\n",
              "              style=\"display:none;\">\n",
              "        \n",
              "  <svg xmlns=\"http://www.w3.org/2000/svg\" height=\"24px\"viewBox=\"0 0 24 24\"\n",
              "       width=\"24px\">\n",
              "    <path d=\"M0 0h24v24H0V0z\" fill=\"none\"/>\n",
              "    <path d=\"M18.56 5.44l.94 2.06.94-2.06 2.06-.94-2.06-.94-.94-2.06-.94 2.06-2.06.94zm-11 1L8.5 8.5l.94-2.06 2.06-.94-2.06-.94L8.5 2.5l-.94 2.06-2.06.94zm10 10l.94 2.06.94-2.06 2.06-.94-2.06-.94-.94-2.06-.94 2.06-2.06.94z\"/><path d=\"M17.41 7.96l-1.37-1.37c-.4-.4-.92-.59-1.43-.59-.52 0-1.04.2-1.43.59L10.3 9.45l-7.72 7.72c-.78.78-.78 2.05 0 2.83L4 21.41c.39.39.9.59 1.41.59.51 0 1.02-.2 1.41-.59l7.78-7.78 2.81-2.81c.8-.78.8-2.07 0-2.86zM5.41 20L4 18.59l7.72-7.72 1.47 1.35L5.41 20z\"/>\n",
              "  </svg>\n",
              "      </button>\n",
              "      \n",
              "  <style>\n",
              "    .colab-df-container {\n",
              "      display:flex;\n",
              "      flex-wrap:wrap;\n",
              "      gap: 12px;\n",
              "    }\n",
              "\n",
              "    .colab-df-convert {\n",
              "      background-color: #E8F0FE;\n",
              "      border: none;\n",
              "      border-radius: 50%;\n",
              "      cursor: pointer;\n",
              "      display: none;\n",
              "      fill: #1967D2;\n",
              "      height: 32px;\n",
              "      padding: 0 0 0 0;\n",
              "      width: 32px;\n",
              "    }\n",
              "\n",
              "    .colab-df-convert:hover {\n",
              "      background-color: #E2EBFA;\n",
              "      box-shadow: 0px 1px 2px rgba(60, 64, 67, 0.3), 0px 1px 3px 1px rgba(60, 64, 67, 0.15);\n",
              "      fill: #174EA6;\n",
              "    }\n",
              "\n",
              "    [theme=dark] .colab-df-convert {\n",
              "      background-color: #3B4455;\n",
              "      fill: #D2E3FC;\n",
              "    }\n",
              "\n",
              "    [theme=dark] .colab-df-convert:hover {\n",
              "      background-color: #434B5C;\n",
              "      box-shadow: 0px 1px 3px 1px rgba(0, 0, 0, 0.15);\n",
              "      filter: drop-shadow(0px 1px 2px rgba(0, 0, 0, 0.3));\n",
              "      fill: #FFFFFF;\n",
              "    }\n",
              "  </style>\n",
              "\n",
              "      <script>\n",
              "        const buttonEl =\n",
              "          document.querySelector('#df-83d18489-775b-45f2-a07f-6bcb1825c338 button.colab-df-convert');\n",
              "        buttonEl.style.display =\n",
              "          google.colab.kernel.accessAllowed ? 'block' : 'none';\n",
              "\n",
              "        async function convertToInteractive(key) {\n",
              "          const element = document.querySelector('#df-83d18489-775b-45f2-a07f-6bcb1825c338');\n",
              "          const dataTable =\n",
              "            await google.colab.kernel.invokeFunction('convertToInteractive',\n",
              "                                                     [key], {});\n",
              "          if (!dataTable) return;\n",
              "\n",
              "          const docLinkHtml = 'Like what you see? Visit the ' +\n",
              "            '<a target=\"_blank\" href=https://colab.research.google.com/notebooks/data_table.ipynb>data table notebook</a>'\n",
              "            + ' to learn more about interactive tables.';\n",
              "          element.innerHTML = '';\n",
              "          dataTable['output_type'] = 'display_data';\n",
              "          await google.colab.output.renderOutput(dataTable, element);\n",
              "          const docLink = document.createElement('div');\n",
              "          docLink.innerHTML = docLinkHtml;\n",
              "          element.appendChild(docLink);\n",
              "        }\n",
              "      </script>\n",
              "    </div>\n",
              "  </div>\n",
              "  "
            ]
          },
          "metadata": {},
          "execution_count": 4
        }
      ],
      "source": [
        "module_url = f\"https://drive.google.com/uc?export=view&id=1eZuwv6os65YqO6xwyj6i9ojq3c6yAeCE\"\n",
        "module_url2 = f\"https://drive.google.com/uc?export=view&id=1gejV-dCzznzCNCrP6xgBtflWK3sny_ar\"\n",
        "module_name = 'UFC_data.csv'\n",
        "name2 = 'descriptions.txt'\n",
        "with request.urlopen(module_url) as f, open(module_name,'w') as outf, request.urlopen(module_url2) as f2, open(name2,'w') as outf2:\n",
        "  a = f.read()\n",
        "  outf.write(a.decode('utf-8'))\n",
        "  a2 = f2.read()\n",
        "  outf2.write(a2.decode('utf-8'))\n",
        "df = pd.read_csv('UFC_data.csv')\n",
        "df = df.drop(columns=['Unnamed: 0'])\n",
        "df = df.rename(columns={'Win_by_KO/TKO':'Win_by_KO_TKO', 'Avg_CTRL_time(seconds)':'Avg_CTRL_time',\n",
        "                        'Avg_opp_CTRL_time(seconds)':'Avg_opp_CTRL_time', 'Total_time_fought(seconds)':'Total_time_fought'})\n",
        "df.head(8)\n"
      ]
    },
    {
      "cell_type": "code",
      "source": [
        "list(df)"
      ],
      "metadata": {
        "colab": {
          "base_uri": "https://localhost:8080/"
        },
        "id": "XhT5-SvmKzWj",
        "outputId": "70cbf4f6-4e04-4e74-a934-3e8ad1737b9e"
      },
      "execution_count": null,
      "outputs": [
        {
          "output_type": "execute_result",
          "data": {
            "text/plain": [
              "['Fighter',\n",
              " 'Referee',\n",
              " 'Date',\n",
              " 'Location',\n",
              " 'Winner',\n",
              " 'Title_bout',\n",
              " 'Weight_class',\n",
              " 'Avg_KD',\n",
              " 'Avg_opp_KD',\n",
              " 'Avg_SIG_STR_pct',\n",
              " 'Avg_opp_SIG_STR_pct',\n",
              " 'Avg_TD_pct',\n",
              " 'Avg_opp_TD_pct',\n",
              " 'Avg_SUB_ATT',\n",
              " 'Avg_opp_SUB_ATT',\n",
              " 'Avg_REV',\n",
              " 'Avg_opp_REV',\n",
              " 'Avg_SIG_STR_landed',\n",
              " 'Avg_opp_SIG_STR_landed',\n",
              " 'Avg_TOTAL_STR_landed',\n",
              " 'Avg_opp_TOTAL_STR_landed',\n",
              " 'Avg_TD_landed',\n",
              " 'Avg_opp_TD_landed',\n",
              " 'Avg_HEAD_landed',\n",
              " 'Avg_opp_HEAD_landed',\n",
              " 'Avg_BODY_landed',\n",
              " 'Avg_opp_BODY_landed',\n",
              " 'Avg_LEG_landed',\n",
              " 'Avg_opp_LEG_landed',\n",
              " 'Avg_DISTANCE_landed',\n",
              " 'Avg_opp_DISTANCE_landed',\n",
              " 'Avg_CLINCH_landed',\n",
              " 'Avg_opp_CLINCH_landed',\n",
              " 'Avg_GROUND_landed',\n",
              " 'Avg_opp_GROUND_landed',\n",
              " 'Avg_CTRL_time',\n",
              " 'Avg_opp_CTRL_time',\n",
              " 'Total_time_fought',\n",
              " 'Total_rounds_fought',\n",
              " 'Total_title_bouts',\n",
              " 'Current_win_streak',\n",
              " 'Current_lose_streak',\n",
              " 'Longest_win_streak',\n",
              " 'Wins',\n",
              " 'Losses',\n",
              " 'Draw',\n",
              " 'Win_by_Decision_Majority',\n",
              " 'Win_by_Decision_Split',\n",
              " 'Win_by_Decision_Unanimous',\n",
              " 'Win_by_KO_TKO',\n",
              " 'Win_by_Submission',\n",
              " 'Win_by_TKO_Doctor_Stoppage',\n",
              " 'Height_cms',\n",
              " 'Reach_cms',\n",
              " 'Weight_lbs',\n",
              " 'Age',\n",
              " 'Match_ID']"
            ]
          },
          "metadata": {},
          "execution_count": 5
        }
      ]
    },
    {
      "cell_type": "markdown",
      "source": [
        "## P2.1. – `pandas` for Probability and Visualisation (15 marks) "
      ],
      "metadata": {
        "id": "zOBNjKxKLInm"
      }
    },
    {
      "cell_type": "markdown",
      "source": [
        "### P2.1.1. The Tall, Young and Winner(3 marks)\n",
        "Find the probability of a fighter winning the fight while *(1) being younger than 25 years of age*, and *(2) taller than 180 cms*. Write a one-liner to solve this. $P\\big[\\text{Win} | (\\text{height_cms} > 180)\\cap \\text{Age} <25\\big]$"
      ],
      "metadata": {
        "id": "foRr2g84V1Tk"
      }
    },
    {
      "cell_type": "code",
      "source": [
        "# your answer here\n",
        "df[(df.Height_cms > 180) & (df.Age < 25)&(df.Winner==1)].shape[0]/df[(df.Height_cms > 180) & (df.Age < 25)].shape[0]\n",
        "\n"
      ],
      "metadata": {
        "id": "D1Rs241fLKie",
        "colab": {
          "base_uri": "https://localhost:8080/"
        },
        "outputId": "b1f10731-5193-433f-cff3-f562623042af"
      },
      "execution_count": null,
      "outputs": [
        {
          "output_type": "execute_result",
          "data": {
            "text/plain": [
              "0.6138107416879796"
            ]
          },
          "metadata": {},
          "execution_count": 6
        }
      ]
    },
    {
      "cell_type": "code",
      "source": [
        "df"
      ],
      "metadata": {
        "id": "pmoiR2_WMzbw"
      },
      "execution_count": null,
      "outputs": []
    },
    {
      "cell_type": "markdown",
      "source": [
        "###P2.1.2. The most durable fighters (3 marks)\n",
        "Find the most durable fighters among all the fighters in the dataframe. You need to filter out `df` for the **10 most** durable fighters who **wins** where they **received higher than 100 significant strikes 'landed'**, but **not had any knockdowns (KD)**.    "
      ],
      "metadata": {
        "id": "-bPIGRXsWwBJ"
      }
    },
    {
      "cell_type": "code",
      "source": [
        "# your answer here\n",
        "df[(df.Avg_SIG_STR_landed > 100) & (df.Avg_KD ==0)].sort_values(by=['Wins'], ascending=False).iloc[:10]\n"
      ],
      "metadata": {
        "id": "wwSbcPQWW9u5"
      },
      "execution_count": null,
      "outputs": []
    },
    {
      "cell_type": "markdown",
      "source": [
        "###P2.1.3. KO-Machines (3 marks)\n",
        "Find probability of fighters who has **at least 2 KO/TKOs** ,and whose **win by KO/TKO ratio is higher than 0.75**."
      ],
      "metadata": {
        "id": "vxuhIwCXXChV"
      }
    },
    {
      "cell_type": "code",
      "source": [
        "# your answer here\n",
        "df[(df.Win_by_KO_TKO > 2) & (df.Win_by_KO_TKO/df.Wins > 0.75)].shape[0]/df.shape[0]"
      ],
      "metadata": {
        "id": "FaNx0YD2XC9x"
      },
      "execution_count": null,
      "outputs": []
    },
    {
      "cell_type": "code",
      "source": [
        "df[df['Winner']==1]"
      ],
      "metadata": {
        "id": "_ha0R555Je5y"
      },
      "execution_count": null,
      "outputs": []
    },
    {
      "cell_type": "markdown",
      "source": [
        "### P2.1.4 - Ideal Body & Strategy (6 marks)\n",
        "Create a figure with two subplots by using a filtered-out version of the dataframe `df` including only rows of **WINNERS**.  \n",
        "- Subplot 1: Create a **2D histogram** via hexagonal bins for `'Height_cms'` and `'Weight_lbs'` columns of the data frame. Color corresponds to number of winners for each height-weight pair.\n",
        "- Subplot 2: Create a heatmap figure for plotting correlations between columns of `['Avg_KD', 'Avg_REV', 'Avg_SIG_STR_landed', 'Avg_TOTAL_STR_landed' 'Avg_TD_landed', 'Avg_HEAD_landed', 'Avg_BODY_landed', 'Avg_LEG_landed' 'Avg_DISTANCE_landed', 'Avg_CLINCH_landed', 'Avg_GROUND_landed', 'Avg_CTRL_time']`\n",
        "\n",
        "**In order to solve this question, you need to use either `pandas` or `matplotlib` library visualisation commands. You cannot use `seaborn, plotly` or other libraries for this question.**\n",
        "\n",
        "**You do not have to replicate the figures given below, but axes labels, titles and other visualisation details should be there.**\n",
        "\n",
        "![](https://drive.google.com/uc?export=view&id=1aGAk4_6KMcOjWmSWhqYlqmkDGJAY8sR8)"
      ],
      "metadata": {
        "id": "PoXUBe49siqT"
      }
    },
    {
      "cell_type": "code",
      "source": [
        "# your answer here\n",
        "df_winner = df[df['Winner'] == 1]\n",
        "fig1 , (ax1, ax2) = plt.subplots(1,2, figsize=(15,5))\n",
        "sp1 = ax1.hexbin(df_winner['Height_cms'], df_winner['Weight_lbs'],gridsize=15, cmap='copper')\n",
        "fig1.colorbar(sp1, ax = ax1, location = 'right')\n",
        "ax1.set_xlabel('Height_cms')\n",
        "ax1.set_ylabel('Weight_lbs')\n",
        "ax1.set_title('Ideal winner Body')\n",
        "\n",
        "df_heatmap = df_winner[['Avg_KD','Avg_REV','Avg_SIG_STR_landed','Avg_TOTAL_STR_landed','Avg_TD_landed','Avg_HEAD_landed','Avg_BODY_landed','Avg_LEG_landed',\n",
        "                        'Avg_DISTANCE_landed','Avg_CLINCH_landed','Avg_GROUND_landed','Avg_CTRL_time']]\n",
        "corr_mat = df_heatmap.corr()\n",
        "ax2.imshow(corr_mat, cmap='pink')\n",
        "ax2.set_xticks(np.arange(len(df_heatmap.columns)))\n",
        "ax2.set_yticks(np.arange(len(df_heatmap.columns)))\n",
        "ax2.set_xticklabels(df_heatmap.columns, rotation = 90)\n",
        "ax2.set_yticklabels(df_heatmap.columns)\n",
        "ax2.set_title('Corrleation Analysis for In-Fight Parameters')\n",
        "plt.show()"
      ],
      "metadata": {
        "id": "w81p9yL_sglp"
      },
      "execution_count": null,
      "outputs": []
    },
    {
      "cell_type": "markdown",
      "source": [
        "##P2.2. – Variable selection via linear regression analysis (9 marks)"
      ],
      "metadata": {
        "id": "qLI7ILXyUS3S"
      }
    },
    {
      "cell_type": "markdown",
      "source": [
        "In **variable selection** ('variable' means the same as 'predictor'), variables get iteratively added or removed from the regression model. Once finished, the model typically contains only a subset of the original variables. It makes it easier to interpret the model, and in some cases it makes it generalise better to new data. \n",
        "\n",
        "To perform variable selection, create a function `select_variable(df, main_pred, main_target, alpha)`, where \n",
        " \n",
        " - `main_pred` is a list of variables includes columns of the data frame except for `'Fighter',\t'Referee',\t'Date'` and `Match_ID`.\n",
        " - `main_target` is the variable for the regression, `'Winner'` \n",
        " - `alpha` is the significance level for selecting significant predictors\n",
        "\n",
        "The function should return\n",
        "\n",
        " - `main_pred` is a list which stores the selected subset of initial `main_pred`.\n",
        "\n",
        "To calculate regression fits and $p$-values you will use `statsmodels`. The general procedure follows two stages:\n",
        "\n",
        " - **Stage 1 (adding predictors):** you build a model by adding variables one after the other. You keep adding variables that increase the **adjusted $R^2$** value (provided by `statsmodels` package). \n",
        "  \n",
        "  - Start with an empty set of variables\n",
        "  \n",
        "  - Fit multiple one-variable regression models. In each iteration, use one of the variables provided in predictors. The variable that leads to the largest increase in adjusted $R^2$ is added to the model.\n",
        "  \n",
        "  - Now proceed by adding a second variable into the model. Starting from the remaining variables, again choose the variable that leads to the largest increase in adjusted $R^2$.\n",
        "  \n",
        "  - Continue in the same way for the third, fourth, … variable.\n",
        "  \n",
        "  - You are finished when there is no variable left that increases adjusted $R^2$.\n",
        " \n",
        " - **Stage 2 (removing non-significant predictors)**: if any of the utilised predictors are not significant, you need to remove them. Keep removing variables until all variables in the model are significant.\n",
        "\n",
        "  - Start by fitting a model using the variables that have been added to the model in Stage 1.\n",
        "  \n",
        "  - If there is a variable that is not significant, remove the variable with the largest $p$-value and fit the model again with the reduced set of variables.\n",
        "  \n",
        "  - Keep removing variables and re-fitting the model until all remaining variables are significant.\n",
        "  \n",
        "  - The remaining significant variables are the output of your function."
      ],
      "metadata": {
        "id": "h_R0UFbrLK5N"
      }
    },
    {
      "cell_type": "code",
      "source": [
        "def select_variable(df, main_pred, main_target, alpha):\n",
        "      # your answer here\n",
        "  temp_pred = main_pred\n",
        "  rsq_dict = {}\n",
        "  temp_col = ''\n",
        "  formula_root = f'{main_target} ~ '\n",
        "  rsq = 0\n",
        "  sign_pred = []\n",
        "  for i in range(0, len(main_pred)):\n",
        "     rsq_dict = {}\n",
        "     for col in temp_pred:\n",
        "       formula = formula_root + col\n",
        "       rsq_adj = sm.OLS.from_formula(formula, df).fit().rsquared_adj\n",
        "       rsq_dict.update({col : rsq_adj})\n",
        "     rsq_key,rsq_value = max(rsq_dict.items(), key=lambda x: x[1])\n",
        "     if rsq_value > rsq:\n",
        "       formula_root += f'{rsq_key} + '\n",
        "       print(i,formula_root, rsq_value)\n",
        "       rsq = rsq_value\n",
        "       sign_pred.append(rsq_key)\n",
        "     else:\n",
        "       print(f'{i} - non sign {rsq_value}')\n",
        "     temp_pred.remove(rsq_key)\n",
        "  \n",
        "  \n",
        "  stage2_pred = sign_pred\n",
        "  len_s2 = len(stage2_pred)\n",
        "  for i in range(0,len_s2):\n",
        "    formula = 'Winner ~ ' + '+'.join(stage2_pred)\n",
        "    model = sm.OLS.from_formula(formula, df).fit()\n",
        "    pvalue_dict = model.pvalues.to_dict()\n",
        "    pvalue_dict.pop('Intercept')\n",
        "    max_key, max_value = max(pvalue_dict.items(), key=lambda x: x[1])\n",
        "    if max_value > alpha:\n",
        "      print(i, max_key,max_value,formula,model.rsquared_adj)\n",
        "      stage2_pred.remove(max_key)\n",
        "    else:\n",
        "      print(i, 'non sign')\n",
        "  print(stage2_pred)\n",
        "  return stage2_pred\n",
        "\n"
      ],
      "metadata": {
        "id": "hDZQPtheLRNT"
      },
      "execution_count": null,
      "outputs": []
    },
    {
      "cell_type": "code",
      "source": [
        "# define input arguments of the function before and then run the code below\n",
        "main_pred = [col for col in df.columns if col not in ['Fighter','Referee','Date','Match_ID','Winner']]\n",
        "main_target = 'Winner'\n",
        "alpha = 0.05\n",
        "main_pred = select_variable(df, main_pred, main_target, alpha)\n",
        "main_pred"
      ],
      "metadata": {
        "id": "kTtnj_BCpZd4"
      },
      "execution_count": null,
      "outputs": []
    },
    {
      "cell_type": "markdown",
      "source": [
        "## P2.3 - Regression Analysis (15 marks)"
      ],
      "metadata": {
        "id": "ZBOSu9_lUavp"
      }
    },
    {
      "cell_type": "markdown",
      "source": [
        "In this part of the statistical analysis, you are asked to develop various regression models for predicting the winning probability of a fighter using the significant predictors found in P2.2. \n",
        "\n",
        "You are asked to write a function `regression_models_UFC(df, main_pred, main_target)` that takes the data frame `df`, significant predictors `main_pred` and target `main_target` as its arguments, and\n",
        "\n",
        "- splits the data into training and test samples with 1:1 ratio. \n",
        "- fits **Linear, Logistic, Poisson** and **Bayesian regression models** using the training samples, and then predicts winning probabilities using the test samples.\n",
        "\n",
        "`regression_models_UFC()` returns a single object `results` which is a `tuple` of `tuples` each element of which is: \n",
        " - `sm.` model objects for each regression model `(lin_reg, logit_reg, poisson_reg, bayes_reg)`\n",
        " - predicted probabilities for each model --> `(y_lin, y_logit, y_poisson, y_bayes)`\n",
        " - splitted training and test samples --> `(x_train, x_test, y_train, y_test)` \n"
      ],
      "metadata": {
        "id": "E6cj4WSwONu5"
      }
    },
    {
      "cell_type": "code",
      "source": [
        "def regression_models_UFC(df, main_pred, main_target):\n",
        " \n",
        "    # train test split\n",
        "  Train = df.sample(frac=0.7,random_state=42)\n",
        "  Test = df.drop(Train.index)\n",
        "  x_train = Train[main_pred]\n",
        "  y_train = Train[[main_target]]\n",
        "  x_test = Test[main_pred]\n",
        "  y_test = Test[main_target]\n",
        "  # Regression Model\n",
        "  lin_reg = sm.OLS(y_train, x_train).fit()\n",
        "  logit_reg = sm.Logit(y_train,x_train).fit()\n",
        "  probit_reg = sm.Probit(y_train, x_train).fit()\n",
        "  # Predict Probabilities\n",
        "  y_lin = lin_reg.predict(x_test)\n",
        "  y_logit = logit_reg.predict(x_test)\n",
        "  y_probit = probit_reg.predict(x_test)\n",
        "  # Convert Predict prob to int\n",
        "  # y_lin = (y_lin >= np.mean(y_lin)).astype(\"int\")\n",
        "  # y_logit = (y_logit >= np.mean(y_logit)).astype(\"int\")\n",
        "  # y_probit = (y_probit >= np.mean(y_probit)).astype(\"int\")\n",
        "  # Pack in tuples and return\n",
        "  model_tup = (lin_reg,logit_reg,probit_reg)\n",
        "  pred_tup = (y_lin,y_logit,y_probit)\n",
        "  sample_tup = (x_train,x_test,y_train,y_test)\n",
        "  return (model_tup,pred_tup,sample_tup)\n"
      ],
      "metadata": {
        "id": "Tx1TGYistn6C"
      },
      "execution_count": null,
      "outputs": []
    },
    {
      "cell_type": "code",
      "source": [
        "# define input arguments of the function before and then run the code below\n",
        "results = regression_models_UFC(df, main_pred, main_target)"
      ],
      "metadata": {
        "id": "9l5Bdj32Aw-q"
      },
      "execution_count": null,
      "outputs": []
    },
    {
      "cell_type": "markdown",
      "source": [
        "## P2.4 – Data Analytics, performance and visualisation (16 marks)"
      ],
      "metadata": {
        "id": "9yCF1fu2LVWb"
      }
    },
    {
      "cell_type": "markdown",
      "source": [
        "### P2.4.1 - In-Fight Winning Analysis (5 marks)\n",
        "Assume you are the data analyist of an UFC fighter. You have developed a Logistic regression model above and is going to use this to make an in-Fight analysis. \n",
        "\n",
        "During the round 4, you are creating a function `in_fight_analysis(results)`. This function is going to take as input the output of `regression_models_UFC()` function will give you some data analysis insights for the last round of the fights. The function `in_fight_analysis(results)` will\n",
        " - randomly select a fighter from the test data. (Hint: select a row, not a fighter!) Assume that this is your fighter!\n",
        " - analyse two parameters of: `'Avg_HEAD_landed'` and `Avg_opp_CTRL_time`. (Hint: These two parameters are two of the significant predictors. If your `select_variable()` function does not return these two, you are doing something wrong.)\n",
        " - create a `seaborn` heatmap figure that depicts how changes on the two paramters mentioned above affects winning probablity of your fighter.\n",
        "\n",
        "For both of the variables, your arrays will start from your fighter's existing values, and you are going to check changes up to two times higher from those values.\n",
        "\n",
        "Winning probabilities will be predicted by using the Logistic regression model developed in P2.3.\n",
        "\n",
        "![](https://drive.google.com/uc?export=view&id=1jyl53cNpU-TEhxtSWBKzfkV39wotO-M4)"
      ],
      "metadata": {
        "id": "oRPgmjO8-oUb"
      }
    },
    {
      "cell_type": "code",
      "source": [
        "def in_fight_analysis(results):\n",
        "    # your code here\n",
        "    reg_models,reg_pred,reg_ds = results # unpack results\n",
        "    log_reg = reg_models[1]\n",
        "    #log_pred = reg_pred[1]\n",
        "    x_train,x_test,y_train,y_test = reg_ds # read the y_train\n",
        "    random_sample_x = x_test.sample(n=1, random_state = 42) # random sample for test data\n",
        "    random_sample_y = y_test.sample(n=1, random_state = 42)\n",
        "    head_initial = random_sample_x['Avg_HEAD_landed']\n",
        "    ctrl_initial = random_sample_x['Avg_opp_CTRL_time']\n",
        "    arr_head = np.linspace(head_initial, head_initial * 2, 10, dtype=np.float16).T.flatten()\n",
        "    arr_ctrl = np.linspace(ctrl_initial, ctrl_initial * 2, 10, dtype=np.float16).T.flatten()\n",
        "    arr_head_grid, arr_ctrl_grid = np.meshgrid(arr_head, arr_ctrl)\n",
        "    arr_head =  arr_head_grid.ravel()\n",
        "    arr_ctrl = arr_ctrl_grid.ravel()\n",
        "\n",
        "    rows = []\n",
        "    for i in range(100):\n",
        "      row = random_sample_x.iloc[0].to_dict()\n",
        "      row['Avg_HEAD_landed'] = arr_head[i]\n",
        "      row['Avg_opp_CTRL_time'] = arr_ctrl[i]\n",
        "      rows.append(row)\n",
        "    df_temp = pd.DataFrame(rows)\n",
        "\n",
        "    log_pred = log_reg.predict(df_temp)\n",
        "    df_temp['Win_Prob'] = log_pred\n",
        "    piv_table = df_temp.pivot_table(values='Win_Prob', index='Avg_HEAD_landed', columns='Avg_opp_CTRL_time')\n",
        "    ax = sns.heatmap(piv_table, cmap='BuPu', fmt='.2g', cbar_kws={\"label\": \"Winning Probability\"})\n",
        "    ax.set_xlabel('Avg Control Time of the Opponent')\n",
        "    ax.set_ylabel('Avg Strikes to Head')\n",
        "    ax.set_title('In-Fight Winning Analysis')\n",
        "    return 1\n"
      ],
      "metadata": {
        "id": "vABH-aks-kRw"
      },
      "execution_count": null,
      "outputs": []
    },
    {
      "cell_type": "code",
      "source": [
        "probablity_of_win = in_fight_analysis(results)\n",
        "probablity_of_win"
      ],
      "metadata": {
        "id": "YoYavyxeU19p"
      },
      "execution_count": null,
      "outputs": []
    },
    {
      "cell_type": "markdown",
      "source": [
        "### P2.4.2 - Height-Reach Analysis (5 Marks)\n",
        "Write a function `height_reach_analysis(df, results)` in order to analyse the effects of height and reach differences between fighters. You are asked to:\n",
        "\n",
        "- take the dataframe `df` and regression modelling output object `results`.\n",
        "- calculate height and reach differences for each specific fight.\n",
        "  - A unique `'Match_ID'` corresponds to two different rows in `df`, e.g. the winner and the loser. \n",
        "  - For each pair you need to find the difference between columns and create two new columns with these values: `'dHeight'` and `'dReach'`. \n",
        "  - If fighter's values are higher, the specific difference value will be positive, otherwise you should set it to negative values. \n",
        "  - An example:\n",
        "  ```\n",
        "  \t    Fighter\t        Winner\t   Height_cms\tReach_cms\t   dHeight\t dReach   Match_ID\n",
        "3132\tRay Borg\t         1\t      162.56\t   160.02\t     -2.54\t   -10.16   975\n",
        "8947\tJussier Formiga\t  0\t      165.10\t   170.18\t      2.54\t    10.16   975\n",
        "  ```\n",
        "- filter out `df` for the test data and add a new column `'WinProb'` from the input argument `result` belonging to Probit regression.\n",
        "- plot a scatter plot where `'dHeight'` and `'dReach'` correspond to axes and `'WinProb'` colour details of the plot. You must use `plotly.express` module for this question.\n",
        "\n",
        "![](https://drive.google.com/uc?export=view&id=1rZFDAqaoIUP_2XAtCisrhgkKyRF7OGSP)"
      ],
      "metadata": {
        "id": "15wHhnPk-pt7"
      }
    },
    {
      "cell_type": "code",
      "source": [
        "def height_reach_analysis(df, results):\n",
        "  df_temp = df\n",
        "  #vals = df_temp['Match_ID'].value_counts()\n",
        "  #print(len(vals[vals == 1]),3890 * 2, 1393+ 7780 == len(df_temp))\n",
        "  df_temp = df_temp[df_temp.duplicated(subset=['Match_ID'], keep=False)]    # remove the rows that have one match id entry \n",
        "  \n",
        "  def calc_diff(row):\n",
        "    match_id = row['Match_ID']\n",
        "    idx =  row.name\n",
        "    df_filter = df_temp[df_temp['Match_ID'] == match_id][['Height_cms', 'Reach_cms']]\n",
        "    max_idx_h = df_filter['Height_cms'].idxmax()\n",
        "    max_idx_r = df_filter['Reach_cms'].idxmax()\n",
        "    df_height = df_filter.sort_values(by='Height_cms', ascending= False) # optimize this garbage\n",
        "    df_reach = df_filter.sort_values(by='Reach_cms', ascending= False)\n",
        "\n",
        "    diff_h = df_height.iloc[0]['Height_cms'] - df_height.iloc[1]['Height_cms']\n",
        "    if diff_h != 0.0:\n",
        "        diff_h = +diff_h if idx == max_idx_h else -diff_h\n",
        "    diff_r = df_reach.iloc[0]['Reach_cms'] - df_reach.iloc[1]['Reach_cms']\n",
        "    if diff_r != 0.0:\n",
        "        diff_r = +diff_r if idx == max_idx_r else -diff_r\n",
        "    row['dHeight'] = diff_h\n",
        "    row['dReach'] = diff_r\n",
        "    return row\n",
        "  \n",
        "  df_temp = df_temp.apply(calc_diff, axis = 1)\n",
        "  pred_prob = results[1][2]\n",
        "  filter_prob = pred_prob[pred_prob.index.isin(df_temp.index)] \n",
        "  df_filter = df_temp.loc[filter_prob.index]\n",
        "  df_filter.loc[:,'WinProb'] = filter_prob\n",
        "  fig = px.scatter(df_filter, x='dHeight', y = 'dReach', \n",
        "            width = 700,height = 500,\n",
        "            size = 'Height_cms', color = 'WinProb',\n",
        "            labels={\n",
        "                      \"dReach\": \"Reach Difference [cm]\",\n",
        "                      \"dHeight\": \"Height Difference [cm]\",\n",
        "                      \"WinProb\": \"Winning Probability [Probit]\"\n",
        "                  },\n",
        "            title = 'Height - Reach Analysis')\n",
        "  fig.show()"
      ],
      "metadata": {
        "id": "crVLMCgVRsJh"
      },
      "execution_count": null,
      "outputs": []
    },
    {
      "cell_type": "code",
      "source": [
        "height_reach_analysis(df, results)"
      ],
      "metadata": {
        "id": "iwl_MwA0Rmek"
      },
      "execution_count": null,
      "outputs": []
    },
    {
      "cell_type": "markdown",
      "metadata": {
        "id": "YX7gMCQ_vsA5"
      },
      "source": [
        "### 2.4.3 - Prediction Perfomance (6 marks)\n",
        "You will now need to visualise the prediction performance of the models, and evaluate them in terms of prediction accuracy (Acc%), mean square error (MSE) and area under curve (AUC) metrics. For this purpose, create a function `prediction_perf(gt, MLE_model_predictions)` which evaluates the prediction performance of the reference models. Up to this point, you should have obtained\n",
        "\n",
        " - predictions from each model, stored in `model_predictions`.\n",
        " - The ground-truth values from data frames `df`, stored in `gt`.\n",
        "\n",
        "Assume predicted values for a given model are stored in a variable $P$. The first performance measure will be the MSE, and will be calculated for each model from the expression below:\n",
        "\n",
        "$$ MSE = \\dfrac{1}{N}\\sum_{i=0}^{N-1} (P_i - Winner_i)^2$$\n",
        "\n",
        "In order to obtain the prediction accuracy for each model, you need to use `sklearn` module and its `accuracy_score()` function. Similarly, by using `sklearn` module methods `roc_curve()` and `auc()` find ROC curve parameters and AUC metric for each prediction model. \n",
        "\n",
        "In order to obtain performance analysis results in a neatly way, you then need to create a new `pandas` dataframe `df_results` which will be in the form of\n",
        "\n",
        "```\n",
        "+----+-------------+--------+--------+-------+\n",
        "|    | Model       |   Acc% |    MSE |   AUC |\n",
        "+====+=============+========+========+=======+\n",
        "|  0 | Linear      |  77.00 | 0.1260 | 0.911 |\n",
        "+----+-------------+--------+--------+-------+\n",
        "|  1 | Logistic    |  81.00 | 0.1086 | 0.911 |\n",
        "+----+-------------+--------+--------+-------+\n",
        "|  2 | Probit      |  76.00 | 0.1490 | 0.884 |\n",
        "+----+-------------+--------+--------+-------+\n",
        "|  3 | Bayesian    |  76.00 | 0.1490 | 0.884 |\n",
        "+----+-------------+--------+--------+-------+\n",
        "```\n",
        "\n",
        "Consequently, the `prediction_perf()` function should `print` and `return` the data frame `df_results`."
      ]
    },
    {
      "cell_type": "code",
      "source": [
        "from sklearn.metrics import mean_squared_error,roc_auc_score\n",
        "\n",
        "def prediction_perf(gt, model_predictions):\n",
        "    y_lin,y_logit,y_probit = model_predictions\n",
        "    #Convert Predict prob to int\n",
        "    y_lin = (y_lin >= np.mean(y_lin)).astype(\"int\")\n",
        "    y_logit = (y_logit >= np.mean(y_logit)).astype(\"int\")\n",
        "    y_probit = (y_probit >= np.mean(y_probit)).astype(\"int\")\n",
        "    lin_mse = mean_squared_error(gt,y_lin)\n",
        "    log_mse = mean_squared_error(gt,y_logit)\n",
        "    pro_mse = mean_squared_error(gt,y_probit)\n",
        "\n",
        "    lin_acc = accuracy_score(gt,y_lin)\n",
        "    log_acc = accuracy_score(gt,y_logit)\n",
        "    prob_acc = accuracy_score(gt,y_probit)\n",
        "\n",
        "    lin_auc = roc_auc_score(gt,y_lin)\n",
        "    log_auc = roc_auc_score(gt,y_logit)\n",
        "    prob_auc = roc_auc_score(gt,y_probit)\n",
        "\n",
        "    print(lin_mse,log_mse,pro_mse)\n",
        "    print(lin_acc,log_acc,prob_acc)\n",
        "    print(lin_auc,log_auc,prob_auc)\n",
        "  \n",
        "   \n",
        "\n",
        "    \n",
        "\n",
        "df_results = prediction_perf(results[2][3], results[1])"
      ],
      "metadata": {
        "id": "GHWldsQldjL8"
      },
      "execution_count": null,
      "outputs": []
    }
  ],
  "metadata": {
    "colab": {
      "collapsed_sections": [
        "koNbuwmaL-TV",
        "NvXEbmnbPRzL",
        "zOBNjKxKLInm",
        "qLI7ILXyUS3S",
        "ZBOSu9_lUavp",
        "9yCF1fu2LVWb"
      ],
      "provenance": []
    },
    "kernelspec": {
      "display_name": "Python 3 (ipykernel)",
      "language": "python",
      "name": "python3"
    },
    "language_info": {
      "codemirror_mode": {
        "name": "ipython",
        "version": 3
      },
      "file_extension": ".py",
      "mimetype": "text/x-python",
      "name": "python",
      "nbconvert_exporter": "python",
      "pygments_lexer": "ipython3",
      "version": "3.9.7"
    }
  },
  "nbformat": 4,
  "nbformat_minor": 0
}